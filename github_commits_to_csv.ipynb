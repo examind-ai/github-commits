{
 "cells": [
  {
   "cell_type": "markdown",
   "metadata": {},
   "source": [
    "## Export GitHub Commits to CSV"
   ]
  },
  {
   "cell_type": "markdown",
   "metadata": {},
   "source": [
    "### Input"
   ]
  },
  {
   "cell_type": "code",
   "execution_count": 1,
   "metadata": {},
   "outputs": [],
   "source": [
    "year = 2023\n",
    "owner = 'johnnyoshika'\n",
    "repo = 'testing'"
   ]
  },
  {
   "cell_type": "markdown",
   "metadata": {},
   "source": [
    "### Setup"
   ]
  },
  {
   "cell_type": "code",
   "execution_count": 2,
   "metadata": {},
   "outputs": [
    {
     "data": {
      "text/plain": [
       "True"
      ]
     },
     "execution_count": 2,
     "metadata": {},
     "output_type": "execute_result"
    }
   ],
   "source": [
    "from dotenv import load_dotenv\n",
    "\n",
    "load_dotenv()"
   ]
  },
  {
   "cell_type": "markdown",
   "metadata": {},
   "source": [
    "### HTTP Request"
   ]
  },
  {
   "cell_type": "code",
   "execution_count": 3,
   "metadata": {},
   "outputs": [],
   "source": [
    "import os\n",
    "import requests\n",
    "\n",
    "headers = {\n",
    "    'Authorization': f'token {os.getenv(\"GITHUB_ACCESS_TOKEN\")}',\n",
    "    'Accept': 'application/vnd.github.v3+json',\n",
    "}\n",
    "\n",
    "def fetch_commits(url):\n",
    "    response = requests.get(url, headers=headers)\n",
    "    commits = response.json()\n",
    "    next_page_url = None\n",
    "\n",
    "    # Check if there is a 'Link' header and parse for next page URL\n",
    "    if 'link' in response.headers:\n",
    "        links = response.headers['link'].split(', ')\n",
    "        next_link = [link for link in links if 'rel=\"next\"' in link]\n",
    "        if next_link:\n",
    "            next_page_url = next_link[0].split(';')[0].strip('<>')\n",
    "\n",
    "    return commits, next_page_url"
   ]
  },
  {
   "cell_type": "markdown",
   "metadata": {},
   "source": [
    "### Export to CSV"
   ]
  },
  {
   "cell_type": "code",
   "execution_count": 4,
   "metadata": {},
   "outputs": [
    {
     "name": "stdout",
     "output_type": "stream",
     "text": [
      "Commits saved to 'C:\\Users\\Johnny\\Downloads\\2023_testing_commits.csv'.\n"
     ]
    }
   ],
   "source": [
    "from datetime import datetime\n",
    "import csv\n",
    "\n",
    "since = datetime(year, 1, 1).isoformat() + 'Z'\n",
    "until = datetime(year + 1, 1, 1).isoformat() + 'Z'\n",
    "\n",
    "base_url = f'https://api.github.com/repos/{owner}/{repo}/commits?since={since}&until={until}'\n",
    "\n",
    "filename = f'{year}_{repo}_commits.csv'\n",
    "filepath = os.path.join(os.path.expanduser('~'), 'Downloads', filename)\n",
    "\n",
    "# Define the CSV header\n",
    "fields = ['SHA', 'Author', 'Date', 'Message']\n",
    "\n",
    "if os.path.exists(filepath):\n",
    "    raise FileExistsError(f\"The file '{filepath}' already exists. Please remove it first.\")\n",
    "\n",
    "with open(filepath, 'w', newline='', encoding='utf-8') as csvfile:\n",
    "    csvwriter = csv.writer(csvfile)\n",
    "    csvwriter.writerow(fields)  # Write the CSV header\n",
    "    \n",
    "    next_url = base_url\n",
    "    while next_url:\n",
    "        commits, next_url = fetch_commits(next_url)\n",
    "        for commit in commits:\n",
    "            sha = commit['sha']\n",
    "            author = commit['commit']['author']['name']\n",
    "            date = commit['commit']['author']['date']\n",
    "            message = commit['commit']['message']\n",
    "            csvwriter.writerow([sha, author, date, message])\n",
    "\n",
    "print(f\"Commits saved to '{filepath}'.\")"
   ]
  }
 ],
 "metadata": {
  "kernelspec": {
   "display_name": "venv",
   "language": "python",
   "name": "python3"
  },
  "language_info": {
   "codemirror_mode": {
    "name": "ipython",
    "version": 3
   },
   "file_extension": ".py",
   "mimetype": "text/x-python",
   "name": "python",
   "nbconvert_exporter": "python",
   "pygments_lexer": "ipython3",
   "version": "3.11.3"
  }
 },
 "nbformat": 4,
 "nbformat_minor": 2
}
